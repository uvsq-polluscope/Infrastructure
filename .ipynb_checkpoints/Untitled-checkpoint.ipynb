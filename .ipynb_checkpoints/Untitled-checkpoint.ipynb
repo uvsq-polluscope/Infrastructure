{
 "cells": [
  {
   "cell_type": "code",
   "execution_count": 1,
   "id": "51ac6ee2",
   "metadata": {
    "scrolled": true
   },
   "outputs": [
    {
     "name": "stdout",
     "output_type": "stream",
     "text": [
      "Collecting kafka-python\n",
      "  Downloading kafka_python-2.0.2-py2.py3-none-any.whl (246 kB)\n",
      "\u001b[K     |████████████████████████████████| 246 kB 1.7 MB/s eta 0:00:01\n",
      "\u001b[?25hInstalling collected packages: kafka-python\n",
      "Successfully installed kafka-python-2.0.2\n"
     ]
    }
   ],
   "source": [
    "!pip3 install kafka-python"
   ]
  },
  {
   "cell_type": "code",
   "execution_count": null,
   "id": "10f4bef2",
   "metadata": {
    "scrolled": true
   },
   "outputs": [
    {
     "name": "stdout",
     "output_type": "stream",
     "text": [
      "b'\"Pr\\xc3\\xa9sentation\"'\n"
     ]
    }
   ],
   "source": [
    "import kafka\n",
    "consumer = kafka.KafkaConsumer(\"testtopic\",bootstrap_servers=['127.0.0.1:29092'],client_id=\"1\",group_id=\"1\") #subscribe\n",
    "producer = kafka.KafkaProducer(bootstrap_servers=['127.0.0.1:29092'], client_id=\"11\")\n",
    "for msg in consumer: \n",
    "    print(msg.value)\n",
    "    \n",
    "    producer.send(\"test\", msg.value)"
   ]
  }
 ],
 "metadata": {
  "kernelspec": {
   "display_name": "Python 3",
   "language": "python",
   "name": "python3"
  },
  "language_info": {
   "codemirror_mode": {
    "name": "ipython",
    "version": 3
   },
   "file_extension": ".py",
   "mimetype": "text/x-python",
   "name": "python",
   "nbconvert_exporter": "python",
   "pygments_lexer": "ipython3",
   "version": "3.8.8"
  }
 },
 "nbformat": 4,
 "nbformat_minor": 5
}
